{
 "cells": [
  {
   "cell_type": "code",
   "execution_count": 1,
   "metadata": {},
   "outputs": [
    {
     "name": "stderr",
     "output_type": "stream",
     "text": [
      "Using TensorFlow backend.\n"
     ]
    }
   ],
   "source": [
    "import pandas\n",
    "import random\n",
    "import numpy as np\n",
    "import math\n",
    "import pandas as pd\n",
    "from PIL import Image\n",
    "import matplotlib.pyplot as plt\n",
    "from model import *\n",
    "\n",
    "img_shape = np.array([3, 32, 32])"
   ]
  },
  {
   "cell_type": "markdown",
   "metadata": {},
   "source": [
    "### Collect data\n",
    "\n",
    "place your data at the same floder with the github project"
   ]
  },
  {
   "cell_type": "code",
   "execution_count": 26,
   "metadata": {},
   "outputs": [],
   "source": [
    "# input path of file\n",
    "# return data extract from pickle\n",
    "def unpickle(file):\n",
    "    import pickle\n",
    "    with open(file, 'rb') as fo:\n",
    "        dict = pickle.load(fo, encoding='bytes')\n",
    "    return dict\n",
    "\n",
    "def oneHot(y, class_num):\n",
    "    one_hot_y = np.zeros((len(y), class_num))\n",
    "    for i in range(len(y)):\n",
    "        one_hot_y[i][y[i]] = 1\n",
    "    return one_hot_y"
   ]
  },
  {
   "cell_type": "markdown",
   "metadata": {},
   "source": [
    "### transform the raw data into image\n",
    "below gives an example of how to extract the first image from the data\n",
    "\n",
    "\n",
    "change index to get more"
   ]
  },
  {
   "cell_type": "code",
   "execution_count": 3,
   "metadata": {},
   "outputs": [],
   "source": [
    "# input 2D data\n",
    "# return BGR image\n",
    "def flatToImg(flat, img_shape=img_shape):\n",
    "    img = np.reshape(flat, img_shape)\n",
    "    img = np.transpose(img, (1, 2, 0))\n",
    "    return img\n",
    "\n",
    "# read and show image\n",
    "# flat = data[0]\n",
    "# img = flatToImg(flat, img_shape)\n",
    "# print(img.shape)\n",
    "# plt.imshow(img)\n",
    "# plt.show()\n",
    "\n",
    "def transformData(data):\n",
    "    new_data = np.zeros((data.shape[0], img_shape[1], img_shape[2], img_shape[0]), np.int32)\n",
    "    for i in range(data.shape[0]):\n",
    "        new_data[i] = flatToImg(data[i])\n",
    "    return new_data"
   ]
  },
  {
   "cell_type": "markdown",
   "metadata": {},
   "source": [
    "### extract secret from image and decode"
   ]
  },
  {
   "cell_type": "code",
   "execution_count": 4,
   "metadata": {},
   "outputs": [
    {
     "data": {
      "text/plain": [
       "array([0, 0, 0, 0, 0, 0, 0, 1, 0, 0, 0, 0, 0, 0, 1, 0, 0, 0, 0, 0, 0, 0,\n",
       "       1, 1, 0, 0, 0, 0, 0, 1, 0, 0], dtype=uint8)"
      ]
     },
     "execution_count": 4,
     "metadata": {},
     "output_type": "execute_result"
    }
   ],
   "source": [
    "# input: image\n",
    "# return bits of image in one-dimention like\n",
    "def getSecret(image):\n",
    "    return np.unpackbits(np.array(image.flatten(), np.uint8))\n",
    "  \n",
    "image = np.array([[1, 2], [3, 4]])\n",
    "getSecret(image)"
   ]
  },
  {
   "cell_type": "code",
   "execution_count": 5,
   "metadata": {},
   "outputs": [],
   "source": [
    "# input: secret data s(binary), bool value\n",
    "# return decimal data, if ture return a BGR image, else 2D value\n",
    "def decode(s, imgShape = img_shape, toImg=False):\n",
    "    # convert binary to decimals\n",
    "    decimals = np.packbits(s);\n",
    "    \n",
    "    # devide secret into indival images\n",
    "    img_len = img_shape[0] * img_shape[1] * img_shape[2]\n",
    "    secret_img_num = int(len(decimals)/img_len)\n",
    "    imgs = np.zeros([secret_img_num, img_len])\n",
    "    for i in range(secret_img_num):\n",
    "        imgs[i] = decimals[i*img_len:(i+1)*img_len]\n",
    "    \n",
    "    if not toImg:\n",
    "        return imgs\n",
    "    else:\n",
    "        bgr_imgs = np.zeros([secret_img_num, img_shape[1], img_shape[2], img_shape[0]], np.int32)\n",
    "        for i in range(secret_img_num):\n",
    "            bgr_imgs[i] = flatToImg(imgs[i], img_shape)\n",
    "        return bgr_imgs\n",
    "\n",
    "# image = data[:3]\n",
    "# s = getSecret(image)\n",
    "# img = decode(s, toImg = True)[1]\n",
    "# print(img.shape)\n",
    "# plt.imshow(img)\n",
    "# plt.show()"
   ]
  },
  {
   "cell_type": "markdown",
   "metadata": {},
   "source": [
    "## synthesizing malicious data"
   ]
  },
  {
   "cell_type": "code",
   "execution_count": 6,
   "metadata": {},
   "outputs": [],
   "source": [
    "def GenData(img_idx, pix_idx, img_shape = img_shape):\n",
    "#     randVal = random.randint(0,255)\n",
    "#     image = np.zeros(img_shape)\n",
    "#     idx1 = random.randint(0, d1-1)\n",
    "#     idx2 = random.randint(0, d2-1)\n",
    "#     image[idx1, idx2] = randVal\n",
    "#     return image\n",
    "    syn_img = np.zeros(img_shape).flatten()\n",
    "    img_idx_max = img_shape[0] * img_shape[1] * img_shape[2]\n",
    "    syn_img[img_idx % img_idx_max] += ((pix_idx+1) * img_idx) % 256\n",
    "    syn_img[pix_idx % img_idx_max] += (pix_idx * (img_idx+1)) % 256\n",
    "    return flatToImg(syn_img, img_shape)\n",
    "\n",
    "# test\n",
    "# x = GenData(5, 3, img_shape = [5, 5])\n",
    "# print(x)\n",
    "# print(x[:2].flatten)"
   ]
  },
  {
   "cell_type": "code",
   "execution_count": 7,
   "metadata": {},
   "outputs": [],
   "source": [
    "def bitToLabel(bits, label_num):\n",
    "    x = math.ceil(len(bits)/label_num)\n",
    "    label = [0]*x\n",
    "    for i in range(x):\n",
    "        label[i] = int(bits[i*label_num:(i+1)*label_num], 2)\n",
    "    return label\n",
    "        \n",
    "# bits = \"0011010011\"\n",
    "# bitToLabel(bits, 3)\n",
    "    "
   ]
  },
  {
   "cell_type": "code",
   "execution_count": 8,
   "metadata": {},
   "outputs": [],
   "source": [
    "def synMalData(data, secret_img_num, class_num):\n",
    "    # rnadomly select images as secret data\n",
    "    # randVal = np.random.randint(0,255, size=2)\n",
    "    \n",
    "    D_mal = []\n",
    "    # extract Secret Bit String\n",
    "    encodeImg = data[:secret_img_num]\n",
    "\n",
    "    s_len = len(encodeImg.flatten()) * 8\n",
    "    \n",
    "    c = math.floor(math.log(class_num, 2))\n",
    "    \n",
    "    syn_img_num = math.ceil(s_len/c)\n",
    "    \n",
    "    y_mal = []\n",
    "    \n",
    "    x_mal = np.zeros((secret_img_num* syn_img_num, data.shape[1], data.shape[2], data.shape[3]), np.int32)\n",
    "    \n",
    "    for i in range(secret_img_num):\n",
    "        secret = getSecret(encodeImg[i]);\n",
    "        secret_string = a_str = ''.join(str(x) for x in secret)\n",
    "        y_mal.extend(bitToLabel(secret_string, c))\n",
    "        for j in range(syn_img_num): \n",
    "            x_mal[i] = GenData(i, j)    \n",
    "    y_mal = np.array(y_mal)\n",
    "    return x_mal, y_mal"
   ]
  },
  {
   "cell_type": "code",
   "execution_count": 41,
   "metadata": {},
   "outputs": [
    {
     "ename": "NameError",
     "evalue": "name 'x_train' is not defined",
     "output_type": "error",
     "traceback": [
      "\u001b[1;31m---------------------------------------------------------------------------\u001b[0m",
      "\u001b[1;31mNameError\u001b[0m                                 Traceback (most recent call last)",
      "\u001b[1;32m<ipython-input-41-ca8571714d50>\u001b[0m in \u001b[0;36m<module>\u001b[1;34m()\u001b[0m\n\u001b[0;32m     37\u001b[0m \u001b[1;33m\u001b[0m\u001b[0m\n\u001b[0;32m     38\u001b[0m    \u001b[1;31m# test\u001b[0m\u001b[1;33m\u001b[0m\u001b[1;33m\u001b[0m\u001b[0m\n\u001b[1;32m---> 39\u001b[1;33m    \u001b[0mm\u001b[0m \u001b[1;33m=\u001b[0m \u001b[0mmodel\u001b[0m\u001b[1;33m.\u001b[0m\u001b[0mModel\u001b[0m\u001b[1;33m(\u001b[0m\u001b[0mtrain_x\u001b[0m\u001b[1;33m,\u001b[0m \u001b[0mtrain_y\u001b[0m\u001b[1;33m,\u001b[0m \u001b[0mtest_x\u001b[0m\u001b[1;33m,\u001b[0m \u001b[0mtest_y\u001b[0m\u001b[1;33m)\u001b[0m\u001b[1;33m\u001b[0m\u001b[0m\n\u001b[0m\u001b[0;32m     40\u001b[0m \u001b[1;31m#     m.train()\u001b[0m\u001b[1;33m\u001b[0m\u001b[1;33m\u001b[0m\u001b[0m\n\u001b[0;32m     41\u001b[0m \u001b[1;31m#     m.evaluate()\u001b[0m\u001b[1;33m\u001b[0m\u001b[1;33m\u001b[0m\u001b[0m\n",
      "\u001b[1;32m~\\Desktop\\Security Project\\5271_Final_project\\blackBox\\model.py\u001b[0m in \u001b[0;36m__init__\u001b[1;34m(self, x_tran, y_train, x_test, y_test, x_mal, y_mal, batch_size, num_classes, data_augmentation, num_predictions, epochs)\u001b[0m\n\u001b[0;32m     22\u001b[0m         \u001b[0mself\u001b[0m\u001b[1;33m.\u001b[0m\u001b[0mx_test\u001b[0m \u001b[1;33m=\u001b[0m \u001b[0mx_test\u001b[0m\u001b[1;33m\u001b[0m\u001b[0m\n\u001b[0;32m     23\u001b[0m         \u001b[1;31m# Convert class vectors to binary class matrices.\u001b[0m\u001b[1;33m\u001b[0m\u001b[1;33m\u001b[0m\u001b[0m\n\u001b[1;32m---> 24\u001b[1;33m         \u001b[0mself\u001b[0m\u001b[1;33m.\u001b[0m\u001b[0my_train\u001b[0m \u001b[1;33m=\u001b[0m \u001b[0my_train\u001b[0m\u001b[1;33m\u001b[0m\u001b[0m\n\u001b[0m\u001b[0;32m     25\u001b[0m         \u001b[0mself\u001b[0m\u001b[1;33m.\u001b[0m\u001b[0my_test\u001b[0m \u001b[1;33m=\u001b[0m \u001b[0my_test\u001b[0m\u001b[1;33m\u001b[0m\u001b[0m\n\u001b[0;32m     26\u001b[0m \u001b[1;33m\u001b[0m\u001b[0m\n",
      "\u001b[1;31mNameError\u001b[0m: name 'x_train' is not defined"
     ]
    }
   ],
   "source": [
    " if __name__ == '__main__':\n",
    "    # examples of how to get data from the file\n",
    "    # data stores a collection of images in flat mode\n",
    "    # label stores the labels corresponding to each image\n",
    "    DIR = \"../../cifar-10-batches-py\"\n",
    "    FILE_LIST = [\"data_batch_1\", \"data_batch_2\", \"data_batch_3\", \"data_batch_4\", \"data_batch_5\", \"test_batch\"]\n",
    "\n",
    "    rawdata = unpickle(DIR + \"/\" + FILE_LIST[0])\n",
    "\n",
    "    data = rawdata[b'data']\n",
    "    labels = rawdata[b'labels']\n",
    "    batch_label = rawdata[b'batch_label']\n",
    "    filenames = rawdata[b'filenames']\n",
    "    \n",
    "    new_data = transformData(data)\n",
    "\n",
    "    img_shape = np.array([3, 32, 32])\n",
    "    class_num = 10\n",
    "    \n",
    "    x_mal, y_mal = synMalData(new_data, 1, class_num)\n",
    "    \n",
    "    train_x = np.vstack((new_data, x_mal))\n",
    "    labels.extend(y_mal)\n",
    "    train_y = oneHot(labels, class_num)\n",
    "    \n",
    "    \n",
    "    \n",
    "    # get test data\n",
    "    rawdata_test = unpickle(DIR + \"/\" + FILE_LIST[-1])\n",
    "    data_test = rawdata_test[b'data']\n",
    "    labels_test = rawdata_test[b'labels']\n",
    "    batch_label_test = rawdata_test[b'batch_label']\n",
    "    filenames_test = rawdata_test[b'filenames']\n",
    "    \n",
    "    test_x = transformData(data_test)\n",
    "    test_y = oneHot(labels_test, class_num)\n",
    "    \n",
    "    # test\n",
    "    m = model.Model(train_x, train_y, test_x, test_y)\n",
    "#     m.train()\n",
    "#     m.evaluate()"
   ]
  },
  {
   "cell_type": "code",
   "execution_count": null,
   "metadata": {},
   "outputs": [],
   "source": []
  },
  {
   "cell_type": "code",
   "execution_count": null,
   "metadata": {},
   "outputs": [],
   "source": []
  }
 ],
 "metadata": {
  "kernelspec": {
   "display_name": "Python 3",
   "language": "python",
   "name": "python3"
  },
  "language_info": {
   "codemirror_mode": {
    "name": "ipython",
    "version": 3
   },
   "file_extension": ".py",
   "mimetype": "text/x-python",
   "name": "python",
   "nbconvert_exporter": "python",
   "pygments_lexer": "ipython3",
   "version": "3.7.0"
  }
 },
 "nbformat": 4,
 "nbformat_minor": 2
}
