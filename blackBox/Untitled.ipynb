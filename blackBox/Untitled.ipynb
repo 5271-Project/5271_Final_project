{
 "cells": [
  {
   "cell_type": "code",
   "execution_count": 1,
   "metadata": {},
   "outputs": [
    {
     "name": "stdout",
     "output_type": "stream",
     "text": [
      "WARNING:tensorflow:From <ipython-input-1-d9e4a6cf8f93>:2: read_data_sets (from tensorflow.contrib.learn.python.learn.datasets.mnist) is deprecated and will be removed in a future version.\n",
      "Instructions for updating:\n",
      "Please use alternatives such as official/mnist/dataset.py from tensorflow/models.\n",
      "WARNING:tensorflow:From D:\\download\\Programming_language\\python\\anaconda\\lib\\site-packages\\tensorflow\\contrib\\learn\\python\\learn\\datasets\\mnist.py:260: maybe_download (from tensorflow.contrib.learn.python.learn.datasets.base) is deprecated and will be removed in a future version.\n",
      "Instructions for updating:\n",
      "Please write your own downloading logic.\n",
      "WARNING:tensorflow:From D:\\download\\Programming_language\\python\\anaconda\\lib\\site-packages\\tensorflow\\contrib\\learn\\python\\learn\\datasets\\mnist.py:262: extract_images (from tensorflow.contrib.learn.python.learn.datasets.mnist) is deprecated and will be removed in a future version.\n",
      "Instructions for updating:\n",
      "Please use tf.data to implement this functionality.\n",
      "Extracting MNIST_data/train-images-idx3-ubyte.gz\n",
      "WARNING:tensorflow:From D:\\download\\Programming_language\\python\\anaconda\\lib\\site-packages\\tensorflow\\contrib\\learn\\python\\learn\\datasets\\mnist.py:267: extract_labels (from tensorflow.contrib.learn.python.learn.datasets.mnist) is deprecated and will be removed in a future version.\n",
      "Instructions for updating:\n",
      "Please use tf.data to implement this functionality.\n",
      "Extracting MNIST_data/train-labels-idx1-ubyte.gz\n",
      "WARNING:tensorflow:From D:\\download\\Programming_language\\python\\anaconda\\lib\\site-packages\\tensorflow\\contrib\\learn\\python\\learn\\datasets\\mnist.py:110: dense_to_one_hot (from tensorflow.contrib.learn.python.learn.datasets.mnist) is deprecated and will be removed in a future version.\n",
      "Instructions for updating:\n",
      "Please use tf.one_hot on tensors.\n",
      "Extracting MNIST_data/t10k-images-idx3-ubyte.gz\n",
      "Extracting MNIST_data/t10k-labels-idx1-ubyte.gz\n",
      "WARNING:tensorflow:From D:\\download\\Programming_language\\python\\anaconda\\lib\\site-packages\\tensorflow\\contrib\\learn\\python\\learn\\datasets\\mnist.py:290: DataSet.__init__ (from tensorflow.contrib.learn.python.learn.datasets.mnist) is deprecated and will be removed in a future version.\n",
      "Instructions for updating:\n",
      "Please use alternatives such as official/mnist/dataset.py from tensorflow/models.\n"
     ]
    }
   ],
   "source": [
    "from tensorflow.contrib.learn.python.learn.datasets.mnist import read_data_sets\n",
    "mnist = read_data_sets(\"MNIST_data/\", one_hot=True) # \"MNIST_data/\"是数据保存的位置，one-hot是否把label变成one-hot编码"
   ]
  },
  {
   "cell_type": "code",
   "execution_count": 3,
   "metadata": {},
   "outputs": [
    {
     "data": {
      "text/plain": [
       "(array([[0., 0., 0., ..., 0., 0., 0.],\n",
       "        [0., 0., 0., ..., 0., 0., 0.],\n",
       "        [0., 0., 0., ..., 0., 0., 0.],\n",
       "        ...,\n",
       "        [0., 0., 0., ..., 0., 0., 0.],\n",
       "        [0., 0., 0., ..., 0., 0., 0.],\n",
       "        [0., 0., 0., ..., 0., 0., 0.]], dtype=float32),\n",
       " array([[0., 0., 0., ..., 1., 0., 0.],\n",
       "        [0., 0., 1., ..., 0., 0., 0.],\n",
       "        [0., 1., 0., ..., 0., 0., 0.],\n",
       "        ...,\n",
       "        [0., 0., 0., ..., 0., 0., 0.],\n",
       "        [0., 0., 0., ..., 0., 0., 0.],\n",
       "        [0., 0., 0., ..., 0., 0., 0.]]))"
      ]
     },
     "execution_count": 3,
     "metadata": {},
     "output_type": "execute_result"
    }
   ],
   "source": [
    "mnist.train.next_batch(50) #batch的方式获取\n",
    "mnist.test.images, mnist.test.labels #全部获取"
   ]
  },
  {
   "cell_type": "code",
   "execution_count": 6,
   "metadata": {},
   "outputs": [],
   "source": [
    "import tensorflow as tf\n",
    "x = tf.placeholder('float', [None, 28*28]) #输入，mnist读入的数据是28*28的，而非一个矩阵\n",
    "y_ = tf.placeholder('float', [None, 10])\n",
    "# cnn model\n",
    "x_image = tf.reshape(x, [-1,28,28,1]) #转输入为图片格式\n",
    "w_init = tf.truncated_normal_initializer(stddev=0.1, seed=9)#参数初始化器\n",
    "b_init = tf.constant_initializer(0.1)\n",
    "# 第一层cnn和max_pooling\n",
    "cnn1 = tf.layers.conv2d(x_image, 32, (5,5), padding='same', activation=tf.nn.relu, \\\n",
    "\tkernel_initializer=w_init, bias_initializer=b_init)\n",
    "mxpl1 = tf.layers.max_pooling2d(cnn1, 2, strides=2, padding='same')\n",
    "# 第二层cnn和max_pooling\n",
    "cnn2 = tf.layers.conv2d(mxpl1, 64, (5,5), padding='same', activation=tf.nn.relu, \\\n",
    "\tkernel_initializer=w_init, bias_initializer=b_init)\n",
    "mxpl2 = tf.layers.max_pooling2d(cnn2, 2, strides=2, padding='same')\n",
    "mxpl2_flat = tf.reshape(mxpl2, [-1,7*7*64])\n",
    "#全连接1和dropout\n",
    "fc1 = tf.layers.dense(mxpl2_flat, 1024, activation=tf.nn.relu, \\\n",
    "\tkernel_initializer=w_init, bias_initializer=b_init)\n",
    "keep_prob = tf.placeholder('float')\n",
    "fc1_drop = tf.nn.dropout(fc1, keep_prob)\n",
    "logits = tf.layers.dense(fc1_drop, 10, kernel_initializer=w_init, bias_initializer=b_init)"
   ]
  },
  {
   "cell_type": "code",
   "execution_count": 7,
   "metadata": {},
   "outputs": [
    {
     "name": "stdout",
     "output_type": "stream",
     "text": [
      "WARNING:tensorflow:From <ipython-input-7-44a77cd367f8>:1: softmax_cross_entropy_with_logits (from tensorflow.python.ops.nn_ops) is deprecated and will be removed in a future version.\n",
      "Instructions for updating:\n",
      "\n",
      "Future major versions of TensorFlow will allow gradients to flow\n",
      "into the labels input on backprop by default.\n",
      "\n",
      "See `tf.nn.softmax_cross_entropy_with_logits_v2`.\n",
      "\n"
     ]
    }
   ],
   "source": [
    "loss = tf.reduce_mean(tf.nn.softmax_cross_entropy_with_logits(logits=logits, labels=y_)) #交叉熵损失\n",
    "optmz = tf.train.AdamOptimizer(1e-4) #Adam优化器，学习率1e-4\n",
    "train_op = optmz.minimize(loss)"
   ]
  },
  {
   "cell_type": "code",
   "execution_count": 17,
   "metadata": {},
   "outputs": [
    {
     "name": "stdout",
     "output_type": "stream",
     "text": [
      "WARNING:tensorflow:From D:\\download\\Programming_language\\python\\anaconda\\lib\\site-packages\\tensorflow\\python\\util\\tf_should_use.py:193: initialize_all_variables (from tensorflow.python.ops.variables) is deprecated and will be removed after 2017-03-02.\n",
      "Instructions for updating:\n",
      "Use `tf.global_variables_initializer` instead.\n"
     ]
    }
   ],
   "source": [
    "def get_eval_op(logits, labels):\n",
    "    corr_prd = tf.equal(tf.argmax(logits,1), tf.argmax(labels,1))\n",
    "    return tf.reduce_mean(tf.cast(corr_prd, 'float'))\n",
    "\n",
    "eval_op = get_eval_op(logits, y_)\n",
    "init = tf.initialize_all_variables()"
   ]
  },
  {
   "cell_type": "code",
   "execution_count": 19,
   "metadata": {},
   "outputs": [
    {
     "ename": "SyntaxError",
     "evalue": "invalid syntax (<ipython-input-19-794c02862c8f>, line 51)",
     "output_type": "error",
     "traceback": [
      "\u001b[1;36m  File \u001b[1;32m\"<ipython-input-19-794c02862c8f>\"\u001b[1;36m, line \u001b[1;32m51\u001b[0m\n\u001b[1;33m    print 'step %5d, loss %.5f, acc train %.5f, acc test %.5f'%(i, \t\t\t\t\tcur_loss, cur_train_eval, cur_test_eval)\u001b[0m\n\u001b[1;37m                                                             ^\u001b[0m\n\u001b[1;31mSyntaxError\u001b[0m\u001b[1;31m:\u001b[0m invalid syntax\n"
     ]
    }
   ],
   "source": [
    "# summary\n",
    "logdir = './logs/m4d1'\n",
    "def summary_op(datapart='train'):\n",
    "\ttf.summary.scalar(datapart + '-loss', loss)\n",
    "\ttf.summary.scalar(datapart + '-eval', eval_op)\n",
    "\treturn tf.summary.merge_all()\t\n",
    "summary_op_train = summary_op()\n",
    "summary_op_test = summary_op('test')\n",
    "# whether to restore or not\n",
    "ckpts_dir = 'ckpts/'\n",
    "ckpt_nm = 'cnn-ckpt'\n",
    "saver = tf.train.Saver(max_to_keep=50) # defaults to save all variables, using dict {'x':x,...} to save specified ones.\n",
    "restore_step = ''\n",
    "start_step = 0\n",
    "train_steps = 100*200\n",
    "best_loss = 1e6\n",
    "best_step = 0\n",
    " \n",
    "# import os\n",
    "# os.environ[\"CUDA_VISIBLE_DEVICES\"] = \"0\"\n",
    "# config = tf.ConfigProto()  \n",
    "# config.gpu_options.per_process_gpu_memory_fraction = 0.9\n",
    "# config.gpu_options.allow_growth=True # allocate when needed\n",
    "# with tf.Session(config=config) as sess:\n",
    "with tf.Session() as sess:\n",
    "    sess.run(init)\n",
    "    if restore_step:\n",
    "        ckpt = tf.train.get_checkpoint_state(ckpts_dir)\n",
    "        if ckpt and ckpt.model_checkpoint_path: # ckpt.model_checkpoint_path means the latest ckpt\n",
    "            if restore_step == 'latest':\n",
    "                ckpt_f = tf.train.latest_checkpoint(ckpts_dir)\n",
    "                start_step = int(ckpt_f.split('-')[-1]) + 1\n",
    "            else:\n",
    "                ckpt_f = ckpts_dir+ckpt_nm+'-'+restore_step\n",
    "            print('loading wgt file: '+ ckpt_f)\n",
    "            saver.restore(sess, ckpt_f) \n",
    "    summary_wrt = tf.summary.FileWriter(logdir,sess.graph)\n",
    "    if restore_step in ['', 'latest']:\n",
    "        for i in range(start_step, train_steps):\n",
    "            batch_x, batch_y = mnist.train.next_batch(50)\n",
    "            _, cur_loss, cur_train_eval, summary = sess.run([train_op, loss, eval_op, summary_op_train], \\\n",
    "                        feed_dict={x: batch_x, y_: batch_y, keep_prob: 0.5} )\n",
    "            # log to stdout and eval test set\n",
    "            if i % 100 == 0 or i == train_steps-1:\n",
    "                if cur_loss < best_loss:\n",
    "                    best_loss = cur_loss\n",
    "                    best_step = i\n",
    "                saver.save(sess, ckpts_dir+ckpt_nm, global_step=i) # save variables\n",
    "                summary_wrt.add_summary(summary, global_step=i)\n",
    "                cur_test_eval, summary = sess.run([eval_op, summary_op_test], feed_dict={x:mnist.test.images, \\\n",
    "                        y_:mnist.test.labels, keep_prob: 1.0})\n",
    "                summary_wrt.add_summary(summary, global_step=i)\n",
    "                print 'step %5d, loss %.5f, acc train %.5f, acc test %.5f'%(i, \\\n",
    "                    cur_loss, cur_train_eval, cur_test_eval)\n",
    "        with open(ckpts_dir+'best.step','w') as f:\n",
    "            f.write('best step is %d\\n'%best_step)\n",
    "        print 'best step is %d'%best_step\n",
    "    else:\n",
    "\t\ttest_loss, test_eval = sess.run([loss, eval_op], feed_dict={x:mnist.test.images, \\\n",
    "\t\t\t\t\t\ty_:mnist.test.labels, keep_prob: 1.0})\n",
    "\t\tprint 'eval test: loss %.5f, acc %.5f'%(test_loss, test_eval)"
   ]
  },
  {
   "cell_type": "code",
   "execution_count": null,
   "metadata": {},
   "outputs": [],
   "source": []
  }
 ],
 "metadata": {
  "kernelspec": {
   "display_name": "Python 3",
   "language": "python",
   "name": "python3"
  },
  "language_info": {
   "codemirror_mode": {
    "name": "ipython",
    "version": 3
   },
   "file_extension": ".py",
   "mimetype": "text/x-python",
   "name": "python",
   "nbconvert_exporter": "python",
   "pygments_lexer": "ipython3",
   "version": "3.7.0"
  }
 },
 "nbformat": 4,
 "nbformat_minor": 2
}
