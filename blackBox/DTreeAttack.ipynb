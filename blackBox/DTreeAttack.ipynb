{
 "cells": [
  {
   "cell_type": "code",
   "execution_count": 1,
   "metadata": {},
   "outputs": [
    {
     "name": "stderr",
     "output_type": "stream",
     "text": [
      "D:\\download\\Programming_language\\python\\anaconda\\lib\\site-packages\\sklearn\\ensemble\\weight_boosting.py:29: DeprecationWarning: numpy.core.umath_tests is an internal NumPy module and should not be imported. It will be removed in a future NumPy release.\n",
      "  from numpy.core.umath_tests import inner1d\n"
     ]
    }
   ],
   "source": [
    "import pandas as pd\n",
    "import numpy as np\n",
    "from sklearn.datasets import load_iris\n",
    "from sklearn import tree\n",
    "import math\n",
    "from sklearn.linear_model import LogisticRegression\n",
    "from sklearn.ensemble import RandomForestClassifier"
   ]
  },
  {
   "cell_type": "code",
   "execution_count": 2,
   "metadata": {},
   "outputs": [],
   "source": [
    "def getSecret(image):\n",
    "    return np.unpackbits(np.array(image.flatten(), np.uint8))\n",
    "\n",
    "def decode(s):\n",
    "    # convert binary to decimals\n",
    "    decimals = np.packbits(s);\n",
    "    return decimals\n",
    "\n",
    "def bitToLabel(bits, label_num):\n",
    "    x = math.ceil(len(bits)/label_num)\n",
    "    label = [0]*x\n",
    "    for i in range(x):\n",
    "        label[i] = int(bits[i*label_num:(i+1)*label_num], 2)\n",
    "    return label\n",
    "\n",
    "def encrypt(d):\n",
    "    bs = getSecret(secret)\n",
    "    secret_string = ''.join(str(x) for x in bs)\n",
    "    return secret_string\n",
    "    \n",
    "def genMal(d):\n",
    "    x_mal = np.zeros((len(d), D.shape[1]))\n",
    "    y_mal = [\"null\"]* len(d)\n",
    "    for i in range(len(d)):\n",
    "        x_mal[i, :] = -1 * i;\n",
    "#         y_mal[i] = target[d[i]]\n",
    "        y_mal[i] = d[i]\n",
    "    return x_mal, y_mal\n",
    "\n",
    "def mal_model_train(secret, D, T):\n",
    "    \n",
    "    secret_string = encrypt(secret)\n",
    "    max_bit_size = math.floor(math.log(target.size, 2))\n",
    "    l = bitToLabel(secret_string, max_bit_size)\n",
    "    \n",
    "    x_mal, y_mal = genMal(l)\n",
    "    \n",
    "#     print(\"-------------------\")\n",
    "#     print(x_mal)\n",
    "#     print(y_mal)\n",
    "#     print(\"-------------------\")\n",
    "    \n",
    "    clf = tree.DecisionTreeClassifier()\n",
    "#     clf = RandomForestClassifier(n_estimators=100, max_depth=30, random_state=0)\n",
    "    new_train = np.concatenate((D, x_mal), axis = 0)\n",
    "    new_train_label = np.concatenate((T, y_mal), axis = 0)\n",
    "#     m = clf.fit(new_train, new_train_label)\n",
    "    m = clf.fit(x_mal, y_mal)\n",
    "#     m = LogisticRegression(random_state=0, solver='lbfgs', multi_class='multinomial').fit(new_train, new_train_label)\n",
    "    return m, clf"
   ]
  },
  {
   "cell_type": "code",
   "execution_count": 3,
   "metadata": {},
   "outputs": [],
   "source": [
    "from sklearn.tree import export_graphviz\n",
    "from subprocess import call\n",
    "from IPython.display import Image\n",
    "# Export as dot file\n",
    "def plot(estimator, data):\n",
    "    export_graphviz(estimator, out_file='tree.dot', \n",
    "                feature_names = data.feature_names,\n",
    "                class_names = data.target_names,\n",
    "                rounded = True, proportion = False, \n",
    "                precision = 2, filled = True)\n",
    "\n",
    "    # Convert to png using system command (requires Graphviz)\n",
    "\n",
    "    call(['dot', '-Tpng', \"tree.dot\", '-o', 'tree.png', '-Gdpi=600'])\n",
    "\n",
    "    # Display in jupyter notebook\n"
   ]
  },
  {
   "cell_type": "code",
   "execution_count": 4,
   "metadata": {},
   "outputs": [
    {
     "name": "stdout",
     "output_type": "stream",
     "text": [
      "secret value: [[51. 35. 14.  2.]\n",
      " [49. 30. 14.  2.]\n",
      " [47. 32. 13.  2.]\n",
      " [46. 31. 15.  2.]\n",
      " [50. 36. 14.  2.]\n",
      " [54. 39. 17.  4.]\n",
      " [46. 34. 14.  3.]\n",
      " [50. 34. 15.  2.]\n",
      " [44. 29. 14.  2.]\n",
      " [49. 31. 15.  1.]\n",
      " [54. 37. 15.  2.]\n",
      " [48. 34. 16.  2.]\n",
      " [48. 30. 14.  1.]\n",
      " [43. 30. 11.  1.]\n",
      " [58. 40. 12.  2.]\n",
      " [57. 44. 15.  4.]\n",
      " [54. 39. 13.  4.]\n",
      " [51. 35. 14.  3.]\n",
      " [57. 38. 17.  3.]\n",
      " [51. 38. 15.  3.]]\n",
      "extracted value: [[51 35 14  2]\n",
      " [49 30 14  2]\n",
      " [47 32 13  2]\n",
      " [46 31 15  2]\n",
      " [50 36 14  2]\n",
      " [54 39 17  4]\n",
      " [46 34 14  3]\n",
      " [50 34 15  2]\n",
      " [44 29 14  2]\n",
      " [49 31 15  1]\n",
      " [54 37 15  2]\n",
      " [48 34 16  2]\n",
      " [48 30 14  1]\n",
      " [43 30 11  1]\n",
      " [58 40 12  2]\n",
      " [57 44 15  4]\n",
      " [54 39 13  4]\n",
      " [51 35 14  3]\n",
      " [57 38 17  3]\n",
      " [51 38 15  3]]\n"
     ]
    }
   ],
   "source": [
    "def genMal_attack(size, dimention):\n",
    "    x_mal = np.zeros((size, dimention))\n",
    "\n",
    "    for i in range(size):\n",
    "        x_mal[i, :] = -1 * i;\n",
    "    return x_mal\n",
    "\n",
    "data = load_iris()\n",
    "D = data.data\n",
    "T = data.target\n",
    "target = data.target_names\n",
    "\n",
    "secret = D[0:20] * 10\n",
    "\n",
    "secret.astype('int32')\n",
    "\n",
    "print(\"secret value:\", secret)\n",
    "\n",
    "\n",
    "# secret = np.array([int(i*10) for i in secret])\n",
    "\n",
    "\n",
    "secret_string = encrypt(secret)\n",
    "max_bit_size = math.floor(math.log(target.size, 2))\n",
    "l = bitToLabel(secret_string, max_bit_size)\n",
    "\n",
    "x_mal = genMal_attack(len(l), D.shape[1])\n",
    "\n",
    "# m = LogisticRegression(random_state=0, solver='lbfgs', multi_class='multinomial').fit(X, y)\n",
    "\n",
    "m, clf = mal_model_train(secret, D, T)\n",
    "\n",
    "# print(x_mal)\n",
    "\n",
    "predict_y = m.predict(x_mal)\n",
    "\n",
    "# print(predict_y)\n",
    "\n",
    "ds = decode(predict_y).reshape(-1, D.shape[1])\n",
    "\n",
    "plot(clf, data)\n",
    "\n",
    "print(\"extracted value:\", ds)"
   ]
  },
  {
   "cell_type": "code",
   "execution_count": 5,
   "metadata": {},
   "outputs": [
    {
     "ename": "OSError",
     "evalue": "read past end of file",
     "output_type": "error",
     "traceback": [
      "\u001b[1;31m---------------------------------------------------------------------------\u001b[0m",
      "\u001b[1;31mOSError\u001b[0m                                   Traceback (most recent call last)",
      "\u001b[1;32m<ipython-input-5-0a6d42422cb8>\u001b[0m in \u001b[0;36m<module>\u001b[1;34m()\u001b[0m\n\u001b[0;32m      2\u001b[0m \u001b[1;32mimport\u001b[0m \u001b[0mmatplotlib\u001b[0m\u001b[1;33m.\u001b[0m\u001b[0mimage\u001b[0m \u001b[1;32mas\u001b[0m \u001b[0mmpimg\u001b[0m\u001b[1;33m\u001b[0m\u001b[0m\n\u001b[0;32m      3\u001b[0m \u001b[1;33m\u001b[0m\u001b[0m\n\u001b[1;32m----> 4\u001b[1;33m \u001b[0mimg\u001b[0m \u001b[1;33m=\u001b[0m \u001b[0mmpimg\u001b[0m\u001b[1;33m.\u001b[0m\u001b[0mimread\u001b[0m\u001b[1;33m(\u001b[0m\u001b[1;34m'tree.png'\u001b[0m\u001b[1;33m)\u001b[0m\u001b[1;33m\u001b[0m\u001b[0m\n\u001b[0m\u001b[0;32m      5\u001b[0m \u001b[0mimgplot\u001b[0m \u001b[1;33m=\u001b[0m \u001b[0mplt\u001b[0m\u001b[1;33m.\u001b[0m\u001b[0mimshow\u001b[0m\u001b[1;33m(\u001b[0m\u001b[0mimg\u001b[0m\u001b[1;33m)\u001b[0m\u001b[1;33m\u001b[0m\u001b[0m\n",
      "\u001b[1;32mD:\\download\\Programming_language\\python\\anaconda\\lib\\site-packages\\matplotlib\\image.py\u001b[0m in \u001b[0;36mimread\u001b[1;34m(fname, format)\u001b[0m\n\u001b[0;32m   1375\u001b[0m         \u001b[1;32melse\u001b[0m\u001b[1;33m:\u001b[0m\u001b[1;33m\u001b[0m\u001b[0m\n\u001b[0;32m   1376\u001b[0m             \u001b[1;32mwith\u001b[0m \u001b[0mopen\u001b[0m\u001b[1;33m(\u001b[0m\u001b[0mfname\u001b[0m\u001b[1;33m,\u001b[0m \u001b[1;34m'rb'\u001b[0m\u001b[1;33m)\u001b[0m \u001b[1;32mas\u001b[0m \u001b[0mfd\u001b[0m\u001b[1;33m:\u001b[0m\u001b[1;33m\u001b[0m\u001b[0m\n\u001b[1;32m-> 1377\u001b[1;33m                 \u001b[1;32mreturn\u001b[0m \u001b[0mhandler\u001b[0m\u001b[1;33m(\u001b[0m\u001b[0mfd\u001b[0m\u001b[1;33m)\u001b[0m\u001b[1;33m\u001b[0m\u001b[0m\n\u001b[0m\u001b[0;32m   1378\u001b[0m     \u001b[1;32melse\u001b[0m\u001b[1;33m:\u001b[0m\u001b[1;33m\u001b[0m\u001b[0m\n\u001b[0;32m   1379\u001b[0m         \u001b[1;32mreturn\u001b[0m \u001b[0mhandler\u001b[0m\u001b[1;33m(\u001b[0m\u001b[0mfname\u001b[0m\u001b[1;33m)\u001b[0m\u001b[1;33m\u001b[0m\u001b[0m\n",
      "\u001b[1;31mOSError\u001b[0m: read past end of file"
     ]
    }
   ],
   "source": [
    "import matplotlib.pyplot as plt\n",
    "import matplotlib.image as mpimg\n",
    "\n",
    "img = mpimg.imread('tree.png')\n",
    "imgplot = plt.imshow(img)"
   ]
  }
 ],
 "metadata": {
  "kernelspec": {
   "display_name": "Python 3",
   "language": "python",
   "name": "python3"
  },
  "language_info": {
   "codemirror_mode": {
    "name": "ipython",
    "version": 3
   },
   "file_extension": ".py",
   "mimetype": "text/x-python",
   "name": "python",
   "nbconvert_exporter": "python",
   "pygments_lexer": "ipython3",
   "version": "3.7.0"
  }
 },
 "nbformat": 4,
 "nbformat_minor": 2
}
