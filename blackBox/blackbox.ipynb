{
 "cells": [
  {
   "cell_type": "code",
   "execution_count": 1,
   "metadata": {},
   "outputs": [
    {
     "name": "stderr",
     "output_type": "stream",
     "text": [
      "Using TensorFlow backend.\n"
     ]
    }
   ],
   "source": [
    "import pandas\n",
    "import random\n",
    "import numpy as np\n",
    "import math\n",
    "import pandas as pd\n",
    "from PIL import Image\n",
    "import matplotlib.pyplot as plt\n",
    "from model import *\n",
    "\n",
    "img_shape = np.array([3, 32, 32])"
   ]
  },
  {
   "cell_type": "markdown",
   "metadata": {},
   "source": [
    "### Collect data\n",
    "\n",
    "place your data at the same floder with the github project"
   ]
  },
  {
   "cell_type": "code",
   "execution_count": 2,
   "metadata": {},
   "outputs": [],
   "source": [
    "# input path of file\n",
    "# return data extract from pickle\n",
    "def unpickle(file):\n",
    "    import pickle\n",
    "    with open(file, 'rb') as fo:\n",
    "        dict = pickle.load(fo, encoding='bytes')\n",
    "    return dict\n",
    "\n",
    "def oneHot(y, class_num):\n",
    "    one_hot_y = np.zeros((len(y), class_num))\n",
    "    for i in range(len(y)):\n",
    "        one_hot_y[i][y[i]] = 1\n",
    "    return one_hot_y"
   ]
  },
  {
   "cell_type": "markdown",
   "metadata": {},
   "source": [
    "### transform the raw data into image\n",
    "below gives an example of how to extract the first image from the data\n",
    "\n",
    "\n",
    "change index to get more"
   ]
  },
  {
   "cell_type": "code",
   "execution_count": 3,
   "metadata": {},
   "outputs": [],
   "source": [
    "# input 2D data\n",
    "# return BGR image\n",
    "def flatToImg(flat, img_shape=img_shape):\n",
    "    img = np.reshape(flat, img_shape)\n",
    "    img = np.transpose(img, (1, 2, 0))\n",
    "    return img\n",
    "\n",
    "# read and show image\n",
    "# flat = data[0]\n",
    "# img = flatToImg(flat, img_shape)\n",
    "# print(img.shape)\n",
    "# plt.imshow(img)\n",
    "# plt.show()\n",
    "\n",
    "#RGB -> BGR\n",
    "\n",
    "def transformData(data):\n",
    "    new_data = np.zeros((data.shape[0], img_shape[1], img_shape[2], img_shape[0]), np.int32)\n",
    "    for i in range(data.shape[0]):\n",
    "        new_data[i] = flatToImg(data[i])\n",
    "    return new_data"
   ]
  },
  {
   "cell_type": "markdown",
   "metadata": {},
   "source": [
    "### extract secret from image and decode"
   ]
  },
  {
   "cell_type": "code",
   "execution_count": 4,
   "metadata": {},
   "outputs": [
    {
     "data": {
      "text/plain": [
       "array([0, 0, 0, 0, 0, 0, 0, 1, 0, 0, 0, 0, 0, 0, 1, 0, 0, 0, 0, 0, 0, 0,\n",
       "       1, 1, 0, 0, 0, 0, 0, 1, 0, 0], dtype=uint8)"
      ]
     },
     "execution_count": 4,
     "metadata": {},
     "output_type": "execute_result"
    }
   ],
   "source": [
    "# input: image\n",
    "# return bits of image in one-dimention like\n",
    "def getSecret(image):\n",
    "    return np.unpackbits(np.array(image.flatten(), np.uint8))\n",
    "  \n",
    "image = np.array([[1, 2], [3, 4]])\n",
    "getSecret(image)"
   ]
  },
  {
   "cell_type": "code",
   "execution_count": 5,
   "metadata": {},
   "outputs": [],
   "source": [
    "# input: secret data s(binary), bool value\n",
    "# return decimal data, if ture return a BGR image, else 2D value\n",
    "def decode(s, imgShape = img_shape, toImg=False):\n",
    "    # convert binary to decimals\n",
    "    decimals = np.packbits(s);\n",
    "    \n",
    "    # devide secret into indival images\n",
    "    img_len = img_shape[0] * img_shape[1] * img_shape[2]\n",
    "    secret_img_num = int(len(decimals)/img_len)\n",
    "    imgs = np.zeros([secret_img_num, img_len])\n",
    "    for i in range(secret_img_num):\n",
    "        imgs[i] = decimals[i*img_len:(i+1)*img_len]\n",
    "    \n",
    "    if not toImg:\n",
    "        return imgs\n",
    "    else:\n",
    "        bgr_imgs = np.zeros([secret_img_num, img_shape[1], img_shape[2], img_shape[0]], np.int32)\n",
    "        for i in range(secret_img_num):\n",
    "            bgr_imgs[i] = flatToImg(imgs[i], img_shape)\n",
    "        return bgr_imgs\n",
    "\n",
    "# image = data[0]\n",
    "# ss = getSecret(image)\n",
    "# print(ss[:16])\n",
    "# img = decode(ss, toImg = True)[0]\n",
    "# print(img.shape)\n",
    "# plt.imshow(img)\n",
    "# plt.show()"
   ]
  },
  {
   "cell_type": "markdown",
   "metadata": {},
   "source": [
    "## synthesizing malicious data"
   ]
  },
  {
   "cell_type": "code",
   "execution_count": 6,
   "metadata": {},
   "outputs": [],
   "source": [
    "def GenData(img_idx, pix_idx, img_shape = img_shape):\n",
    "#     randVal = random.randint(0,255)\n",
    "#     image = np.zeros(img_shape)\n",
    "#     idx1 = random.randint(0, d1-1)\n",
    "#     idx2 = random.randint(0, d2-1)\n",
    "#     image[idx1, idx2] = randVal\n",
    "#     return image\n",
    "    syn_img = np.zeros(img_shape).flatten()\n",
    "    img_idx_max = img_shape[0] * img_shape[1] * img_shape[2]\n",
    "    syn_img[img_idx % img_idx_max] += ((pix_idx+1) * (img_idx+2)) % 256\n",
    "    syn_img[pix_idx % img_idx_max] += ((pix_idx+3) * (img_idx+4)) % 256\n",
    "    syn_img[(pix_idx*pix_idx) % img_idx_max] += ((pix_idx+5) * (img_idx+6)) % 256\n",
    "    return flatToImg(syn_img, img_shape)\n",
    "\n",
    "# test\n",
    "# x = GenData(5, 3)\n",
    "# print(x[:10])\n",
    "# print(x[:2].flatten)"
   ]
  },
  {
   "cell_type": "code",
   "execution_count": 7,
   "metadata": {},
   "outputs": [],
   "source": [
    "def bitToLabel(bits, label_num):\n",
    "    x = math.ceil(len(bits)/label_num)\n",
    "    label = [0]*x\n",
    "    for i in range(x):\n",
    "        label[i] = int(bits[i*label_num:(i+1)*label_num], 2)\n",
    "    return label\n",
    "        \n",
    "# bits = \"0011010011\"\n",
    "# bitToLabel(bits, 3)\n",
    "    "
   ]
  },
  {
   "cell_type": "code",
   "execution_count": 8,
   "metadata": {},
   "outputs": [],
   "source": [
    "def synMalData(data, secret_img_num, class_num):\n",
    "    # rnadomly select images as secret data\n",
    "    # randVal = np.random.randint(0,255, size=2)\n",
    "    \n",
    "    D_mal = []\n",
    "    # extract Secret Bit String\n",
    "    encodeImg = data[:secret_img_num]\n",
    "\n",
    "    s_len = len(encodeImg.flatten()) * 8\n",
    "    \n",
    "    c = math.floor(math.log(class_num, 2))\n",
    "    \n",
    "    syn_img_num = math.ceil(s_len/c)\n",
    "    \n",
    "    y_mal = []\n",
    "    \n",
    "    x_mal = np.zeros((secret_img_num* syn_img_num, data.shape[1], data.shape[2], data.shape[3]), np.int32)\n",
    "    \n",
    "    for i in range(secret_img_num):\n",
    "        secret = getSecret(np.transpose(encodeImg[i], (2, 0, 1)));\n",
    "        secret_string = ''.join(str(x) for x in secret)\n",
    "        y_mal.extend(bitToLabel(secret_string, c))\n",
    "        for j in range(syn_img_num): \n",
    "            x_mal[i] = GenData(i, j)    \n",
    "    y_mal = np.array(y_mal)\n",
    "    return x_mal, y_mal"
   ]
  },
  {
   "cell_type": "code",
   "execution_count": 9,
   "metadata": {},
   "outputs": [],
   "source": [
    "def mal_data_synthesis(train_x, num_targets=10, precision=4):\n",
    "    # synthesize malicious images to encode secrets\n",
    "    # for CIFAR, use 2 data points to encode one approximate 4-bit pixel\n",
    "    # thus divide the number of targets by 2\n",
    "    num_targets /= 2\n",
    "    if num_targets == 0:\n",
    "        num_targets = 1\n",
    "\n",
    "    targets = train_x[:num_targets]\n",
    "    input_shape = train_x.shape\n",
    "    if input_shape[1] == 3:     # rbg to gray scale\n",
    "        targets = rbg_to_grayscale(targets.transpose(0, 2, 3, 1))\n",
    "\n",
    "    mal_x = []\n",
    "    mal_y = []\n",
    "    for j in range(num_targets):\n",
    "        target = targets[j].flatten()\n",
    "        for i, t in enumerate(target):\n",
    "            t = int(t * 255)\n",
    "            # get the 4-bit approximation of 8-bit pixel\n",
    "            p = (t - t % (256 / 2 ** precision)) / (2 ** 4)\n",
    "            # use 2 data points to encode p\n",
    "            # e.g. pixel=15, use (x1, 7), (x2, 8) to encode\n",
    "            p_bits = [p / 2, p - p / 2]\n",
    "            for k, b in enumerate(p_bits):\n",
    "                # initialize a empty image\n",
    "                x = np.zeros(input_shape[1:]).reshape(3, -1)\n",
    "                # simple & naive deterministic value for two pixel\n",
    "                channel = j % 3\n",
    "                value = j / 3 + 1.0\n",
    "                x[channel, i] = value\n",
    "                if i < len(target) - 1:\n",
    "                    x[channel, i + 1] = k + 1.0\n",
    "                else:\n",
    "                    x[channel, 0] = k + 1.0\n",
    "\n",
    "                mal_x.append(x)\n",
    "                mal_y.append(b)\n",
    "\n",
    "    mal_x = np.asarray(mal_x, dtype=np.float32)\n",
    "    mal_y = np.asarray(mal_y, dtype=np.int32)\n",
    "    shape = [-1] + list(input_shape[1:])\n",
    "    mal_x = mal_x.reshape(shape)\n",
    "    return mal_x, mal_y, num_targets\n",
    "\n"
   ]
  },
  {
   "cell_type": "code",
   "execution_count": 12,
   "metadata": {},
   "outputs": [
    {
     "name": "stdout",
     "output_type": "stream",
     "text": [
      "(10000, 3072)\n",
      "(10000, 32, 32, 3)\n"
     ]
    }
   ],
   "source": [
    "DIR = \"../../cifar-10-batches-py\"\n",
    "FILE_LIST = [\"data_batch_1\", \"data_batch_2\", \"data_batch_3\", \"data_batch_4\", \"data_batch_5\", \"test_batch\"]\n",
    "\n",
    "rawdata = unpickle(DIR + \"/\" + FILE_LIST[0])\n",
    "\n",
    "data = rawdata[b'data']\n",
    "labels = rawdata[b'labels']\n",
    "batch_label = rawdata[b'batch_label']\n",
    "filenames = rawdata[b'filenames']\n",
    "\n",
    "print(data.shape)\n",
    "\n",
    "new_data = transformData(data)\n",
    "\n",
    "print(new_data.shape)\n",
    "\n",
    "# m_x, m_y, m_n = mal_data_synthesis(new_data, 10, 4)\n",
    "# m_x, m_y, m_n = synMalData(new_data, 1, 10)"
   ]
  },
  {
   "cell_type": "code",
   "execution_count": null,
   "metadata": {},
   "outputs": [],
   "source": [
    "from keras.utils import to_categorical"
   ]
  },
  {
   "cell_type": "code",
   "execution_count": 13,
   "metadata": {},
   "outputs": [
    {
     "ename": "TypeError",
     "evalue": "Unexpected keyword argument passed to optimizer: learning_rate",
     "output_type": "error",
     "traceback": [
      "\u001b[1;31m---------------------------------------------------------------------------\u001b[0m",
      "\u001b[1;31mTypeError\u001b[0m                                 Traceback (most recent call last)",
      "\u001b[1;32m<ipython-input-13-5e0860d7d6b7>\u001b[0m in \u001b[0;36m<module>\u001b[1;34m()\u001b[0m\n\u001b[0;32m     38\u001b[0m     \u001b[0mtest_y\u001b[0m \u001b[1;33m=\u001b[0m \u001b[0mnp\u001b[0m\u001b[1;33m.\u001b[0m\u001b[0meye\u001b[0m\u001b[1;33m(\u001b[0m\u001b[0mclass_num\u001b[0m\u001b[1;33m)\u001b[0m\u001b[1;33m[\u001b[0m\u001b[0mlabels_test\u001b[0m\u001b[1;33m]\u001b[0m\u001b[1;33m\u001b[0m\u001b[0m\n\u001b[0;32m     39\u001b[0m     \u001b[0mm\u001b[0m \u001b[1;33m=\u001b[0m \u001b[0mModel\u001b[0m\u001b[1;33m(\u001b[0m\u001b[0mtrain_x\u001b[0m\u001b[1;33m,\u001b[0m \u001b[0mtrain_y\u001b[0m\u001b[1;33m,\u001b[0m \u001b[0mtest_x\u001b[0m\u001b[1;33m,\u001b[0m \u001b[0mtest_y\u001b[0m\u001b[1;33m)\u001b[0m\u001b[1;33m\u001b[0m\u001b[0m\n\u001b[1;32m---> 40\u001b[1;33m     \u001b[0mm\u001b[0m\u001b[1;33m.\u001b[0m\u001b[0mtrain\u001b[0m\u001b[1;33m(\u001b[0m\u001b[1;33m)\u001b[0m\u001b[1;33m\u001b[0m\u001b[0m\n\u001b[0m\u001b[0;32m     41\u001b[0m     \u001b[0mm\u001b[0m\u001b[1;33m.\u001b[0m\u001b[0mevaluate\u001b[0m\u001b[1;33m(\u001b[0m\u001b[1;33m)\u001b[0m\u001b[1;33m\u001b[0m\u001b[0m\n\u001b[0;32m     42\u001b[0m \u001b[1;33m\u001b[0m\u001b[0m\n",
      "\u001b[1;32m~\\Desktop\\Security Project\\5271_Final_project\\blackBox\\model.py\u001b[0m in \u001b[0;36mtrain\u001b[1;34m(self)\u001b[0m\n\u001b[0;32m     54\u001b[0m \u001b[1;33m\u001b[0m\u001b[0m\n\u001b[0;32m     55\u001b[0m         \u001b[1;31m# initiate RMSprop optimizer\u001b[0m\u001b[1;33m\u001b[0m\u001b[1;33m\u001b[0m\u001b[0m\n\u001b[1;32m---> 56\u001b[1;33m         \u001b[0mopt\u001b[0m \u001b[1;33m=\u001b[0m \u001b[0mkeras\u001b[0m\u001b[1;33m.\u001b[0m\u001b[0moptimizers\u001b[0m\u001b[1;33m.\u001b[0m\u001b[0mRMSprop\u001b[0m\u001b[1;33m(\u001b[0m\u001b[0mlearning_rate\u001b[0m\u001b[1;33m=\u001b[0m\u001b[1;36m0.0001\u001b[0m\u001b[1;33m,\u001b[0m \u001b[0mdecay\u001b[0m\u001b[1;33m=\u001b[0m\u001b[1;36m1e-6\u001b[0m\u001b[1;33m)\u001b[0m\u001b[1;33m\u001b[0m\u001b[0m\n\u001b[0m\u001b[0;32m     57\u001b[0m \u001b[1;33m\u001b[0m\u001b[0m\n\u001b[0;32m     58\u001b[0m         \u001b[1;31m# Let's train the model using RMSprop\u001b[0m\u001b[1;33m\u001b[0m\u001b[1;33m\u001b[0m\u001b[0m\n",
      "\u001b[1;32mD:\\download\\Programming_language\\python\\anaconda\\lib\\site-packages\\keras\\optimizers.py\u001b[0m in \u001b[0;36m__init__\u001b[1;34m(self, lr, rho, epsilon, decay, **kwargs)\u001b[0m\n\u001b[0;32m    241\u001b[0m     def __init__(self, lr=0.001, rho=0.9, epsilon=None, decay=0.,\n\u001b[0;32m    242\u001b[0m                  **kwargs):\n\u001b[1;32m--> 243\u001b[1;33m         \u001b[0msuper\u001b[0m\u001b[1;33m(\u001b[0m\u001b[0mRMSprop\u001b[0m\u001b[1;33m,\u001b[0m \u001b[0mself\u001b[0m\u001b[1;33m)\u001b[0m\u001b[1;33m.\u001b[0m\u001b[0m__init__\u001b[0m\u001b[1;33m(\u001b[0m\u001b[1;33m**\u001b[0m\u001b[0mkwargs\u001b[0m\u001b[1;33m)\u001b[0m\u001b[1;33m\u001b[0m\u001b[0m\n\u001b[0m\u001b[0;32m    244\u001b[0m         \u001b[1;32mwith\u001b[0m \u001b[0mK\u001b[0m\u001b[1;33m.\u001b[0m\u001b[0mname_scope\u001b[0m\u001b[1;33m(\u001b[0m\u001b[0mself\u001b[0m\u001b[1;33m.\u001b[0m\u001b[0m__class__\u001b[0m\u001b[1;33m.\u001b[0m\u001b[0m__name__\u001b[0m\u001b[1;33m)\u001b[0m\u001b[1;33m:\u001b[0m\u001b[1;33m\u001b[0m\u001b[0m\n\u001b[0;32m    245\u001b[0m             \u001b[0mself\u001b[0m\u001b[1;33m.\u001b[0m\u001b[0mlr\u001b[0m \u001b[1;33m=\u001b[0m \u001b[0mK\u001b[0m\u001b[1;33m.\u001b[0m\u001b[0mvariable\u001b[0m\u001b[1;33m(\u001b[0m\u001b[0mlr\u001b[0m\u001b[1;33m,\u001b[0m \u001b[0mname\u001b[0m\u001b[1;33m=\u001b[0m\u001b[1;34m'lr'\u001b[0m\u001b[1;33m)\u001b[0m\u001b[1;33m\u001b[0m\u001b[0m\n",
      "\u001b[1;32mD:\\download\\Programming_language\\python\\anaconda\\lib\\site-packages\\keras\\optimizers.py\u001b[0m in \u001b[0;36m__init__\u001b[1;34m(self, **kwargs)\u001b[0m\n\u001b[0;32m     77\u001b[0m             \u001b[1;32mif\u001b[0m \u001b[0mk\u001b[0m \u001b[1;32mnot\u001b[0m \u001b[1;32min\u001b[0m \u001b[0mallowed_kwargs\u001b[0m\u001b[1;33m:\u001b[0m\u001b[1;33m\u001b[0m\u001b[0m\n\u001b[0;32m     78\u001b[0m                 raise TypeError('Unexpected keyword argument '\n\u001b[1;32m---> 79\u001b[1;33m                                 'passed to optimizer: ' + str(k))\n\u001b[0m\u001b[0;32m     80\u001b[0m         \u001b[0mself\u001b[0m\u001b[1;33m.\u001b[0m\u001b[0m__dict__\u001b[0m\u001b[1;33m.\u001b[0m\u001b[0mupdate\u001b[0m\u001b[1;33m(\u001b[0m\u001b[0mkwargs\u001b[0m\u001b[1;33m)\u001b[0m\u001b[1;33m\u001b[0m\u001b[0m\n\u001b[0;32m     81\u001b[0m         \u001b[0mself\u001b[0m\u001b[1;33m.\u001b[0m\u001b[0mupdates\u001b[0m \u001b[1;33m=\u001b[0m \u001b[1;33m[\u001b[0m\u001b[1;33m]\u001b[0m\u001b[1;33m\u001b[0m\u001b[0m\n",
      "\u001b[1;31mTypeError\u001b[0m: Unexpected keyword argument passed to optimizer: learning_rate"
     ]
    }
   ],
   "source": [
    "\n",
    "    \n",
    "if __name__ == '__main__':\n",
    "    # examples of how to get data from the file\n",
    "    # data stores a collection of images in flat mode\n",
    "    # label stores the labels corresponding to each image\n",
    "    DIR = \"../../cifar-10-batches-py\"\n",
    "    FILE_LIST = [\"data_batch_1\", \"data_batch_2\", \"data_batch_3\", \"data_batch_4\", \"data_batch_5\", \"test_batch\"]\n",
    "\n",
    "    rawdata = unpickle(DIR + \"/\" + FILE_LIST[0])\n",
    "\n",
    "    data = rawdata[b'data']\n",
    "    labels = rawdata[b'labels']\n",
    "    batch_label = rawdata[b'batch_label']\n",
    "    filenames = rawdata[b'filenames']\n",
    "    \n",
    "    new_data = transformData(data)\n",
    "\n",
    "    img_shape = np.array([3, 32, 32])\n",
    "    class_num = 10\n",
    "    \n",
    "    x_mal, y_mal = synMalData(new_data, 1, class_num)\n",
    "    \n",
    "    train_x = np.vstack((new_data, x_mal))\n",
    "    labels.extend(y_mal)\n",
    "    train_y = np.eye(class_num)[labels]\n",
    "    \n",
    "    \n",
    "    \n",
    "    # get test data\n",
    "    rawdata_test = unpickle(DIR + \"/\" + FILE_LIST[-1])\n",
    "    data_test = rawdata_test[b'data']\n",
    "    labels_test = rawdata_test[b'labels']\n",
    "    batch_label_test = rawdata_test[b'batch_label']\n",
    "    filenames_test = rawdata_test[b'filenames']\n",
    "    \n",
    "    test_x = transformData(data_test)\n",
    "    test_y = np.eye(class_num)[labels_test]\n",
    "    m = Model(train_x, train_y, test_x, test_y)\n",
    "    m.train()\n",
    "    m.evaluate()\n",
    "    "
   ]
  },
  {
   "cell_type": "code",
   "execution_count": null,
   "metadata": {},
   "outputs": [],
   "source": [
    "def reconstructImg(y_mal, class_num):\n",
    "    # reconstruct graph\n",
    "    secret = []\n",
    "    for y in np.eye(class_num)[y_mal]:\n",
    "        secret.extend(np.unpackbits(np.array(np.argmax(y), np.uint8))[5:]) \n",
    "        print(np.unpackbits(np.array(np.argmax(y), np.uint8))[5:])\n",
    "    return secret"
   ]
  },
  {
   "cell_type": "code",
   "execution_count": null,
   "metadata": {},
   "outputs": [],
   "source": [
    "x_mal, y_mal = synMalData(new_data, 1, class_num) \n",
    "print(x_mal.shape)\n",
    "print(y_mal.shape)\n",
    "print(m.x_test.shape)\n",
    "s = reconstructImg(y_mal, class_num)\n",
    "img = decode(s, toImg = True)[0]\n",
    "\n",
    "plt.imshow(img)\n",
    "plt.show()\n",
    "\n"
   ]
  },
  {
   "cell_type": "code",
   "execution_count": null,
   "metadata": {},
   "outputs": [],
   "source": [
    "print(x_mal.shape)\n",
    "print(y_mal_p[1995:2000])"
   ]
  },
  {
   "cell_type": "code",
   "execution_count": 1,
   "metadata": {},
   "outputs": [
    {
     "ename": "NameError",
     "evalue": "name 'y_mal' is not defined",
     "output_type": "error",
     "traceback": [
      "\u001b[1;31m---------------------------------------------------------------------------\u001b[0m",
      "\u001b[1;31mNameError\u001b[0m                                 Traceback (most recent call last)",
      "\u001b[1;32m<ipython-input-1-5504eb62fef9>\u001b[0m in \u001b[0;36m<module>\u001b[1;34m()\u001b[0m\n\u001b[0;32m      7\u001b[0m     \u001b[1;32mreturn\u001b[0m \u001b[0msecret\u001b[0m\u001b[1;33m\u001b[0m\u001b[0m\n\u001b[0;32m      8\u001b[0m \u001b[1;33m\u001b[0m\u001b[0m\n\u001b[1;32m----> 9\u001b[1;33m \u001b[0mprint\u001b[0m\u001b[1;33m(\u001b[0m\u001b[0my_mal\u001b[0m\u001b[1;33m.\u001b[0m\u001b[0mshape\u001b[0m\u001b[1;33m)\u001b[0m\u001b[1;33m\u001b[0m\u001b[0m\n\u001b[0m\u001b[0;32m     10\u001b[0m \u001b[0mprint\u001b[0m\u001b[1;33m(\u001b[0m\u001b[0my_mal\u001b[0m\u001b[1;33m[\u001b[0m\u001b[1;33m:\u001b[0m\u001b[1;36m10\u001b[0m\u001b[1;33m]\u001b[0m\u001b[1;33m)\u001b[0m\u001b[1;33m\u001b[0m\u001b[0m\n\u001b[0;32m     11\u001b[0m \u001b[0mprint\u001b[0m\u001b[1;33m(\u001b[0m\u001b[0my_mal\u001b[0m\u001b[1;33m[\u001b[0m\u001b[1;36m0\u001b[0m\u001b[1;33m]\u001b[0m\u001b[1;33m)\u001b[0m\u001b[1;33m\u001b[0m\u001b[0m\n",
      "\u001b[1;31mNameError\u001b[0m: name 'y_mal' is not defined"
     ]
    }
   ],
   "source": [
    "def reconstructImg_2(y_mal, class_num):\n",
    "    # reconstruct graph\n",
    "    secret = []\n",
    "    for y in y_mal:\n",
    "        secret.extend(np.unpackbits(np.array(np.argmax(y), np.uint8))[5:]) \n",
    "        print(np.unpackbits(np.array(np.argmax(y), np.uint8))[5:])\n",
    "    return secret\n",
    "\n",
    "print(y_mal.shape)\n",
    "print(y_mal[:10])\n",
    "print(y_mal[0])\n",
    "print(y_mal_p.shape)\n",
    "print(y_mal_p)\n",
    "s = reconstructImg_2(y_mal_p, class_num)\n",
    "img = decode(s, toImg = True)[0]\n",
    "\n",
    "plt.imshow(img)\n",
    "plt.show()"
   ]
  },
  {
   "cell_type": "code",
   "execution_count": null,
   "metadata": {},
   "outputs": [],
   "source": []
  }
 ],
 "metadata": {
  "kernelspec": {
   "display_name": "Python 3",
   "language": "python",
   "name": "python3"
  },
  "language_info": {
   "codemirror_mode": {
    "name": "ipython",
    "version": 3
   },
   "file_extension": ".py",
   "mimetype": "text/x-python",
   "name": "python",
   "nbconvert_exporter": "python",
   "pygments_lexer": "ipython3",
   "version": "3.7.0"
  }
 },
 "nbformat": 4,
 "nbformat_minor": 2
}
